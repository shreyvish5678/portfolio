{
 "cells": [
  {
   "cell_type": "code",
   "execution_count": 19,
   "metadata": {},
   "outputs": [],
   "source": [
    "from tensorflow.keras.models import load_model\n",
    "import matplotlib.pyplot as plt\n",
    "import json\n",
    "from PIL import Image\n",
    "import numpy as np\n",
    "import openai"
   ]
  },
  {
   "cell_type": "code",
   "execution_count": 20,
   "metadata": {},
   "outputs": [
    {
     "name": "stdout",
     "output_type": "stream",
     "text": [
      "Model: \"sequential_23\"\n",
      "_________________________________________________________________\n",
      " Layer (type)                Output Shape              Param #   \n",
      "=================================================================\n",
      " conv2d_47 (Conv2D)          (None, 30, 30, 32)        896       \n",
      "                                                                 \n",
      " conv2d_48 (Conv2D)          (None, 28, 28, 64)        18496     \n",
      "                                                                 \n",
      " max_pooling2d_24 (MaxPooli  (None, 14, 14, 64)        0         \n",
      " ng2D)                                                           \n",
      "                                                                 \n",
      " dropout_2 (Dropout)         (None, 14, 14, 64)        0         \n",
      "                                                                 \n",
      " flatten_23 (Flatten)        (None, 12544)             0         \n",
      "                                                                 \n",
      " dense_46 (Dense)            (None, 128)               1605760   \n",
      "                                                                 \n",
      " dropout_3 (Dropout)         (None, 128)               0         \n",
      "                                                                 \n",
      " dense_47 (Dense)            (None, 43)                5547      \n",
      "                                                                 \n",
      "=================================================================\n",
      "Total params: 1630699 (6.22 MB)\n",
      "Trainable params: 1630699 (6.22 MB)\n",
      "Non-trainable params: 0 (0.00 Byte)\n",
      "_________________________________________________________________\n"
     ]
    }
   ],
   "source": [
    "road_model = load_model('../MODELS/road_signs.h5')\n",
    "road_model.summary()"
   ]
  },
  {
   "cell_type": "code",
   "execution_count": 21,
   "metadata": {},
   "outputs": [
    {
     "data": {
      "text/plain": [
       "{'0': 'Speed limit (20km/h)',\n",
       " '1': 'Speed limit (30km/h)',\n",
       " '2': 'Speed limit (50km/h)',\n",
       " '3': 'Speed limit (60km/h)',\n",
       " '4': 'Speed limit (70km/h)',\n",
       " '5': 'Speed limit (80km/h)',\n",
       " '6': 'End of speed limit (80km/h)',\n",
       " '7': 'Speed limit (100km/h)',\n",
       " '8': 'Speed limit (120km/h)',\n",
       " '9': 'No passing',\n",
       " '10': 'No passing for vehicles over 3.5 metric tons',\n",
       " '11': 'Right-of-way at the next intersection',\n",
       " '12': 'Priority road',\n",
       " '13': 'Yield',\n",
       " '14': 'Stop',\n",
       " '15': 'No vehicles',\n",
       " '16': 'Vehicles over 3.5 metric tons prohibited',\n",
       " '17': 'No entry',\n",
       " '18': 'General caution',\n",
       " '19': 'Dangerous curve to the left',\n",
       " '20': 'Dangerous curve to the right',\n",
       " '21': 'Double curve',\n",
       " '22': 'Bumpy road',\n",
       " '23': 'Slippery road',\n",
       " '24': 'Road narrows on the right',\n",
       " '25': 'Road work',\n",
       " '26': 'Traffic signals',\n",
       " '27': 'Pedestrians',\n",
       " '28': 'Children crossing',\n",
       " '29': 'Bicycles crossing',\n",
       " '30': 'Beware of ice/snow',\n",
       " '31': 'Wild animals crossing',\n",
       " '32': 'End of all speed and passing limits',\n",
       " '33': 'Turn right ahead',\n",
       " '34': 'Turn left ahead',\n",
       " '35': 'Ahead only',\n",
       " '36': 'Go straight or right',\n",
       " '37': 'Go straight or left',\n",
       " '38': 'Keep right',\n",
       " '39': 'Keep left',\n",
       " '40': 'Roundabout mandatory',\n",
       " '41': 'End of no passing',\n",
       " '42': 'End of no passing by vehicles over 3.5 metric tons'}"
      ]
     },
     "execution_count": 21,
     "metadata": {},
     "output_type": "execute_result"
    }
   ],
   "source": [
    "with open('../OTHER/classes.json', 'r') as f:\n",
    "    data = json.load(f)\n",
    "data"
   ]
  },
  {
   "cell_type": "code",
   "execution_count": 22,
   "metadata": {},
   "outputs": [
    {
     "data": {
      "image/png": "[encoded data removed]",
      "text/plain": [
       "<Figure size 640x480 with 1 Axes>"
      ]
     },
     "metadata": {},
     "output_type": "display_data"
    }
   ],
   "source": [
    "img = Image.open(\"../OTHER/sample_img.jpg\")\n",
    "img = img.resize((32, 32))\n",
    "plt.imshow(img)\n",
    "plt.axis('off')\n",
    "plt.show()"
   ]
  },
  {
   "cell_type": "code",
   "execution_count": 23,
   "metadata": {},
   "outputs": [
    {
     "name": "stdout",
     "output_type": "stream",
     "text": [
      "1/1 [==============================] - 0s 53ms/step\n"
     ]
    },
    {
     "data": {
      "text/plain": [
       "'Go straight or right'"
      ]
     },
     "execution_count": 23,
     "metadata": {},
     "output_type": "execute_result"
    }
   ],
   "source": [
    "prediction = data[str(np.argmax(road_model.predict(np.array(img).reshape(-1, 32, 32, 3))))]\n",
    "prediction"
   ]
  },
  {
   "cell_type": "code",
   "execution_count": 24,
   "metadata": {},
   "outputs": [
    {
     "name": "stdout",
     "output_type": "stream",
     "text": [
      "Invalid API Key.\n"
     ]
    }
   ],
   "source": [
    "try:\n",
    "  openai.api_key = input(\"Enter your OpenAI API key: \")\n",
    "  message = openai.ChatCompletion.create(\n",
    "    model=\"gpt-3.5-turbo\",\n",
    "    messages=[\n",
    "          {\"role\": \"system\", \"content\": \"You are a helpful assistant that gives users a description of a given road sign, and recommendations on what to do when they see it.\"},\n",
    "          {\"role\": \"user\", \"content\": \"What  should I do if I see a 65 mph sign\"},\n",
    "          {\"role\": \"assistant\", \"content\": \"Keep your speed below 65 miles per  hour, as it will keep you safe.\"},\n",
    "          {\"role\": \"user\", \"content\": \"Tell me about this sign: \" + prediction},\n",
    "      ]\n",
    "  )\n",
    "  output = message.get('choices')[0]\n",
    "  content = output.get('message')\n",
    "  response = content.get('content') \n",
    "  print('This is the \"' + prediction + '\" sign. '  + response)\n",
    "except:\n",
    "  print(\"Invalid API Key.\")"
   ]
  }
 ],
 "metadata": {
  "kernelspec": {
   "display_name": "Python 3",
   "language": "python",
   "name": "python3"
  },
  "language_info": {
   "codemirror_mode": {
    "name": "ipython",
    "version": 3
   },
   "file_extension": ".py",
   "mimetype": "text/x-python",
   "name": "python",
   "nbconvert_exporter": "python",
   "pygments_lexer": "ipython3",
   "version": "3.11.5"
  }
 },
 "nbformat": 4,
 "nbformat_minor": 2
}
